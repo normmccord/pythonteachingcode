{
 "cells": [
  {
   "attachments": {},
   "cell_type": "markdown",
   "metadata": {
    "collapsed": true,
    "jupyter": {
     "outputs_hidden": true
    }
   },
   "source": [
    "#  Module 2 Required Coding Activity  \n",
    "\n",
    "| Requirements |  \n",
    "|:-------------------------------|  \n",
    "| **NOTE:** This program requires a **function** be defined, created and called. The call will send values based on user input.  The function call must capture a `return` value that is used in print output.  The function will have parameters and `return` a string and should otherwise use code syntax covered in module 2.  |  \n",
    " \n",
    "## Program: fishstore()\n",
    "create and test fishstore()\n",
    "- **fishstore() takes 2 string arguments: fish & price**\n",
    "- **fishstore returns a string in sentence form**  \n",
    "- **gather input for fish_entry and price_entry to use in calling fishstore()**\n",
    "- **print the return value of fishstore()**\n",
    "- **the final print statement must include your full name**\n",
    "\n",
    ">example of output: **`Report for [YOUR FULL NAME GOES HERE]. Fish Type: Guppy costs $1`**"
   ]
  },
  {
   "cell_type": "code",
   "execution_count": 3,
   "metadata": {},
   "outputs": [
    {
     "name": "stdin",
     "output_type": "stream",
     "text": [
      "What fish are you selling:  goldfish\n",
      "And what's the price:  1,000.00\n"
     ]
    },
    {
     "data": {
      "text/plain": [
       "\"The fish you're selling is a goldfish and you want $1,000.00 for it? Wow!!!\""
      ]
     },
     "execution_count": 3,
     "metadata": {},
     "output_type": "execute_result"
    }
   ],
   "source": [
    "# [ ] create, call and test fishstore() function \n",
    "def fishstore(fish, price):\n",
    "    return f\"The fish you're selling is a {fish} and you want ${price} for it? Wow!!!\"\n",
    "\n",
    "fish_entry = input(\"What fish are you selling: \")\n",
    "price_entry = input(\"And what's the price: \")\n",
    "\n",
    "fishstore(fish_entry, price_entry)"
   ]
  },
  {
   "cell_type": "markdown",
   "metadata": {},
   "source": [
    "When finished and tested, copy your code to the clipboard on your computer. Then, create a python file (.py) in Visual Studio Code by selecting New File and saving the file with a .py extension. Then, paste in your code and test it. Finally, save the file and upload it to D2L to submit. Be sure to test that it works. Use this same process for all Required Code Activities."
   ]
  }
 ],
 "metadata": {
  "kernelspec": {
   "display_name": "Python 3 (ipykernel)",
   "language": "python",
   "name": "python3"
  },
  "language_info": {
   "codemirror_mode": {
    "name": "ipython",
    "version": 3
   },
   "file_extension": ".py",
   "mimetype": "text/x-python",
   "name": "python",
   "nbconvert_exporter": "python",
   "pygments_lexer": "ipython3",
   "version": "3.12.7"
  }
 },
 "nbformat": 4,
 "nbformat_minor": 4
}
