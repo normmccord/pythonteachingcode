{
 "cells": [
  {
   "attachments": {},
   "cell_type": "markdown",
   "metadata": {
    "collapsed": true,
    "jupyter": {
     "outputs_hidden": true
    }
   },
   "source": [
    "#  Module 1 Required Coding Activity  \n",
    "Work through the Module 1 Tutorials and Practices prior to attempting this activity.\n",
    "Notice that this activity is logically very similar to the Allergy Check activity in the practice module.\n",
    "Remmeber, you are not allowed to work with others on this code or post it in Teams for help.\n",
    "You can ask related questions about the practice module.\n",
    "\n",
    "> **NOTE:** This program requires print output and code syntax used in module 1\n",
    "\n",
    "| Some Assignment Requirements |  \n",
    "|:-------------------------------|  \n",
    "| **NOTE:** This program requires `print` output and using code syntax used in module 1 such as variable assignment, `input`, `in` keyword, `.lower()` or `.upper()` method  |  \n",
    "\n",
    "\n",
    "## Program: Name Check  \n",
    "\n",
    "1. **[ ]** get user **`input`** for names of people met in the last 24 hours  \n",
    " save in a variable called **input_test**  \n",
    "2. **[ ]** print **`True`** if \"John\" is in the **input_test** string  \n",
    "3. **[ ]** Test the code so far  \n",
    "4. **[ ]** repeat the process checking the input for your name, \n",
    "5. **[ ] challenge:** add two more names \n",
    "5. **[ ]** Test your code  \n",
    "6. **[ ] challenge:** make your code work for input regardless of case, e.g. - print **`True`** for \"mary\", \"Mary\", \"MARY\" or \"MaRy\"  \n"
   ]
  },
  {
   "cell_type": "code",
   "execution_count": 6,
   "metadata": {},
   "outputs": [
    {
     "name": "stdin",
     "output_type": "stream",
     "text": [
      "Enter names of people you met in the last 24 hours:  Norm\n"
     ]
    },
    {
     "name": "stdout",
     "output_type": "stream",
     "text": [
      "Is John in the list? False\n",
      "Is Norm in the list? True\n",
      "Is Mary in the list? False\n",
      "Is Bob in the list? False\n"
     ]
    }
   ],
   "source": [
    "# Create name check code\n",
    "\n",
    "# [ ] get input for input_test variable\n",
    "input_test = input(\"Enter names of people you met in the last 24 hours: \").lower()\n",
    "\n",
    "# [ ] print \"True\" message if \"John\" is in the input or False message if not\n",
    "print(\"Is John in the list?\", \"john\" in input_test.lower())\n",
    "\n",
    "# [ ] print True message if your name is in the input or False if not\n",
    "print(\"Is Norm in the list?\", \"norm\" in input_test.lower())\n",
    "\n",
    "# [ ] Challenge: Check if another person's name is in the input - print message\n",
    "print(\"Is Mary in the list?\", \"mary\" in input_test.lower())\n",
    "\n",
    "# [ ] Challenge: Check if a fourth person's name is in the input - print message\n",
    "print(\"Is Bob in the list?\", \"bob\" in input_test.lower())"
   ]
  },
  {
   "cell_type": "markdown",
   "metadata": {},
   "source": [
    "When finished and tested, copy your code to the clipboard on your computer. Then, create a python file (.py) in Visual Studio Code by selecting New File and saving the file with a .py extension. Then, paste in your code and test it. Finally, save the file and upload it to D2L to submit. Be sure to test that it works. Use this same process for all Required Code Activities."
   ]
  }
 ],
 "metadata": {
  "kernelspec": {
   "display_name": "Python 3 (ipykernel)",
   "language": "python",
   "name": "python3"
  },
  "language_info": {
   "codemirror_mode": {
    "name": "ipython",
    "version": 3
   },
   "file_extension": ".py",
   "mimetype": "text/x-python",
   "name": "python",
   "nbconvert_exporter": "python",
   "pygments_lexer": "ipython3",
   "version": "3.12.7"
  }
 },
 "nbformat": 4,
 "nbformat_minor": 4
}
