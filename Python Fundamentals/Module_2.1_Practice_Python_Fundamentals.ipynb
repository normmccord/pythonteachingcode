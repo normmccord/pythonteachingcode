{
 "cells": [
  {
   "cell_type": "markdown",
   "metadata": {},
   "source": [
    "# Module 2 Practice - Python Fundamentals\n",
    "## Lists\n",
    "<font size=\"5\" color=\"#00A0B2\"  face=\"verdana\"> <B>Student will be able to</B></font>  \n",
    "- Create Lists\n",
    "- Access items in a list\n",
    "- Add Items to the end of a list\n",
    "- Insert items into a list\n",
    "- Delete items from a list"
   ]
  },
  {
   "cell_type": "markdown",
   "metadata": {},
   "source": [
    "## Create Lists"
   ]
  },
  {
   "cell_type": "code",
   "execution_count": 20,
   "metadata": {},
   "outputs": [
    {
     "name": "stdout",
     "output_type": "stream",
     "text": [
      "['Sun', 'Mon', 'Tue', 'Wed', 'Thu', 'Fri', 'Sat']\n"
     ]
    }
   ],
   "source": [
    "# [ ] create and populate list called days_of_week then print it\n",
    "days_of_week = [\n",
    "    \"Sun\",\n",
    "    \"Mon\",\n",
    "    \"Tue\",\n",
    "    \"Wed\",\n",
    "    \"Thu\",\n",
    "    \"Fri\",\n",
    "    \"Sat\"\n",
    "]\n",
    "print(days_of_week)"
   ]
  },
  {
   "cell_type": "code",
   "execution_count": 21,
   "metadata": {},
   "outputs": [
    {
     "name": "stdout",
     "output_type": "stream",
     "text": [
      "Mon \n",
      " Wed \n",
      " Fri\n"
     ]
    }
   ],
   "source": [
    "# [ ] after days_of_week is run above, print the days in the list at odd indexes 1,3,5\n",
    "print(days_of_week[1],\"\\n\",days_of_week[3],\"\\n\",days_of_week[5])\n"
   ]
  },
  {
   "cell_type": "markdown",
   "metadata": {},
   "source": [
    "## Phone letters\n",
    "![phone keys: number and letters](images/phone_letters.png)\n",
    "Create a list, **`phone_letters`**, where the index 0 - 9 contains the letters for keys 0 - 9.  \n",
    "\n",
    "- 0 = ' ' (a space)\n",
    "- 1 = '' (empty)\n",
    "- 2 = 'ABC'\n",
    "- 3 = 'DEF'\n",
    "- etc...\n"
   ]
  },
  {
   "cell_type": "code",
   "execution_count": 22,
   "metadata": {},
   "outputs": [
    {
     "name": "stdout",
     "output_type": "stream",
     "text": [
      "0: ' ' (a space)\n",
      "1: '' (empty)\n",
      "2: ABC\n",
      "3: DEF\n",
      "4: GHI\n",
      "5: JKL\n",
      "6: MNO\n",
      "7: PQRS\n",
      "8: TUV\n",
      "9: WXYZ\n"
     ]
    }
   ],
   "source": [
    "# [ ] create and populate list called phone_letters then print it\n",
    "\n",
    "phone_letters = [\n",
    "    \"' ' (a space)\",     # 0\n",
    "    \"'' (empty)\",      # 1\n",
    "    'ABC',   # 2\n",
    "    'DEF',   # 3\n",
    "    'GHI',   # 4\n",
    "    'JKL',   # 5\n",
    "    'MNO',   # 6\n",
    "    'PQRS',  # 7\n",
    "    'TUV',   # 8\n",
    "    'WXYZ'   # 9\n",
    "]\n",
    "\n",
    "\n",
    "for i, letters in enumerate(phone_letters):\n",
    "    print(f\"{i}: {letters}\")"
   ]
  },
  {
   "cell_type": "markdown",
   "metadata": {
    "collapsed": true,
    "jupyter": {
     "outputs_hidden": true
    }
   },
   "source": [
    "## Access Lists\n",
    "### for the 2 cells below\n",
    "- Use days_of_week list created above\n",
    "- Run the cell above to make the list available"
   ]
  },
  {
   "cell_type": "code",
   "execution_count": 23,
   "metadata": {},
   "outputs": [
    {
     "name": "stdout",
     "output_type": "stream",
     "text": [
      "Tue\n"
     ]
    }
   ],
   "source": [
    "# [ ] create a variable: day, assign day to \"Tuesday\" using days_of_week[]\n",
    "# [ ] print day variable\n",
    "day = days_of_week[2]\n",
    "print(day)\n",
    "\n",
    "\n"
   ]
  },
  {
   "cell_type": "code",
   "execution_count": 24,
   "metadata": {},
   "outputs": [
    {
     "name": "stdout",
     "output_type": "stream",
     "text": [
      "Fri\n"
     ]
    }
   ],
   "source": [
    "# PART 2\n",
    "# [ ] assign day to days_of_week index = 5\n",
    "# [ ] print day\n",
    "\n",
    "day = days_of_week[5]\n",
    "print(day)\n",
    "\n"
   ]
  },
  {
   "cell_type": "markdown",
   "metadata": {},
   "source": [
    "## Append and Insert items into a list\n",
    "\n",
    "### Endsday, Midsday, Resterday\n",
    "#### for the exercises below\n",
    "- Use days_of_week list created above\n",
    "- Run the cell defining days_of_week above to make the list available"
   ]
  },
  {
   "cell_type": "code",
   "execution_count": 25,
   "metadata": {},
   "outputs": [
    {
     "name": "stdout",
     "output_type": "stream",
     "text": [
      "Sun\n",
      "Mon\n",
      "Tue\n",
      "Wed\n",
      "Thu\n",
      "Fri\n",
      "Sat\n",
      "Freeskoolday\n"
     ]
    }
   ],
   "source": [
    "# [ ] Make up a new day! - append an 8th day of the week to days_of_week \n",
    "# [ ] print days_of_week\n",
    "days_of_week.append(\"Freeskoolday\")\n",
    "\n",
    "for i in days_of_week:\n",
    "    print(i)\n",
    "\n"
   ]
  },
  {
   "cell_type": "markdown",
   "metadata": {},
   "source": [
    "### Question  \n",
    "- What happens if you keep running the cell above?  \n",
    "- How can you return to the initial state with the regular 7 days in days_of_week? "
   ]
  },
  {
   "cell_type": "code",
   "execution_count": 26,
   "metadata": {},
   "outputs": [
    {
     "name": "stdout",
     "output_type": "stream",
     "text": [
      "Sun\n",
      "Mon\n",
      "Tue\n",
      "Wed\n",
      "Midsday\n",
      "Thu\n",
      "Fri\n",
      "Sat\n",
      "Freeskoolday\n"
     ]
    }
   ],
   "source": [
    "# [ ] Make up another new day - insert a new day into the middle of days_of_week between Wed - Thurs\n",
    "# [ ] print days_of_week\n",
    "days_of_week.insert(4, \"Midsday\")\n",
    "for i in days_of_week:\n",
    "    print(i)\n"
   ]
  },
  {
   "cell_type": "code",
   "execution_count": 27,
   "metadata": {},
   "outputs": [
    {
     "name": "stdout",
     "output_type": "stream",
     "text": [
      "Sun\n",
      "Mon\n",
      "Tue\n",
      "Wed\n",
      "Midsday\n",
      "Thu\n",
      "Fri\n",
      "Dunwithisday\n",
      "Sat\n",
      "Freeskoolday\n"
     ]
    }
   ],
   "source": [
    "# [ ]  Extend the weekend - insert a day between Fri & Sat in the days_of_week list\n",
    "# [ ] print days_of_week\n",
    "days_of_week.insert(7, \"Dunwithisday\")\n",
    "\n",
    "for i in days_of_week:\n",
    "    print(i)\n",
    "\n"
   ]
  },
  {
   "cell_type": "markdown",
   "metadata": {},
   "source": [
    "## Delete from a list\n",
    "### `del` & `.pop()` some bad ideas\n",
    "#### exercises below assume days_of_week appended/inserted 3 extra days in previous exercises"
   ]
  },
  {
   "cell_type": "code",
   "execution_count": 28,
   "metadata": {},
   "outputs": [
    {
     "name": "stdout",
     "output_type": "stream",
     "text": [
      "Sun\n",
      "Mon\n",
      "Tue\n",
      "Wed\n",
      "Midsday\n",
      "Thu\n",
      "Fri\n",
      "Dunwithisday\n",
      "Sat\n",
      "Freeskoolday\n",
      "Freeskoolday\n"
     ]
    }
   ],
   "source": [
    "# [ ] print days_of_week \n",
    "# [ ] modified week is too long - pop() the last index of days_of_week & print .pop() value\n",
    "# [ ] print days_of_week\n",
    "for i in days_of_week:\n",
    "    print(i)\n",
    "\n",
    "ex_day = days_of_week.pop()\n",
    "print(ex_day)"
   ]
  },
  {
   "cell_type": "code",
   "execution_count": 29,
   "metadata": {},
   "outputs": [
    {
     "name": "stdout",
     "output_type": "stream",
     "text": [
      "['Sun', 'Mon', 'Tue', 'Wed', 'Midsday', 'Thu', 'Fri', 'Dunwithisday', 'Sat']\n",
      "\n",
      "['Sun', 'Mon', 'Tue', 'Wed', 'Thu', 'Fri', 'Dunwithisday', 'Sat']\n"
     ]
    }
   ],
   "source": [
    "# [ ] print days_of_week \n",
    "# [ ] delete (del) the new day added to the middle of the week \n",
    "# [ ] print days_of_week\n",
    "print(days_of_week)\n",
    "print()\n",
    "\n",
    "del days_of_week[4]\n",
    "print(days_of_week)\n"
   ]
  },
  {
   "cell_type": "code",
   "execution_count": 30,
   "metadata": {},
   "outputs": [
    {
     "name": "stdout",
     "output_type": "stream",
     "text": [
      "['Sun', 'Mon', 'Tue', 'Wed', 'Thu', 'Fri', 'Dunwithisday', 'Sat']\n",
      "\n",
      "['Mon', 'Tue', 'Wed', 'Thu', 'Fri', 'Dunwithisday', 'Sat']\n"
     ]
    }
   ],
   "source": [
    "# [ ] print days_of_week \n",
    "# [ ] programmers choice - pop() any day in days_of week & print .pop() value\n",
    "# [ ] print days_of_week\n",
    "print(days_of_week)\n",
    "print()\n",
    "\n",
    "del days_of_week[0]\n",
    "print(days_of_week)\n"
   ]
  },
  {
   "cell_type": "markdown",
   "metadata": {},
   "source": [
    "## Program:  Letter to Number Function\n",
    "### for the exercise below\n",
    "- Use phone_letters list created above\n",
    "- Run the cell above to make the list available \n",
    "\n",
    "#### recall unit 1 using **`in`** to search for a string in a string\n",
    "```python\n",
    "if \"e\" in \"open\":\n",
    "    print(\"e found\")\n",
    "else:\n",
    "   print(\"e not found\")\n",
    "```\n",
    "\n",
    "![phone keys: number and letters](images/phone_letters.png)\n",
    "\n",
    "### create funtion let_to_num()\n",
    "- let_to_num() takes input of a single letter, space or empty string stored in an argument variable: letter\n",
    "  - use `while key < 10:` to try numbers 0 - 9 as index for `phone_letters` (\"key\" = phone dial pad key)\n",
    "  - check if `letter` variable is in the index of `phone_letters[key]` \n",
    "```python\n",
    "key = 0\n",
    "while key < 10:\n",
    "    if # Create Code: determine if letter is **`in`** any of the phone_letters[key] where key is the index 0 -9:\n",
    "        return key\n",
    "    else:\n",
    "        key = key + 1\n",
    "return \"Not Found\"\n",
    "```\n",
    "- return the number or \"Not Found\"\n",
    "- **call** let_to_num() to test the function so it prints the argument and return value with:\n",
    "  - space\n",
    "  - lowercase letter\n",
    "  - different letter, uppercase\n",
    "  - a number\n",
    "  \n",
    "**Bonus**: create a special case to check if empty string (`\"\"`) was submitted   \n",
    "the problem is that an empty string will be found in all strings as  \n",
    "```python\n",
    "if \"\" in \"ABC\": \n",
    "```  \n",
    "is True, and is true for any phone_letters, but should `return 1`"
   ]
  },
  {
   "cell_type": "code",
   "execution_count": 46,
   "metadata": {},
   "outputs": [
    {
     "name": "stdout",
     "output_type": "stream",
     "text": [
      "0 = '' ' (a space)'\n",
      "1 = ''' (empty)'\n",
      "2 = 'ABC'\n",
      "3 = 'DEF'\n",
      "4 = 'GHI'\n",
      "5 = 'JKL'\n",
      "6 = 'MNO'\n",
      "7 = 'PQRS'\n",
      "8 = 'TUV'\n",
      "9 = 'WXYZ'\n",
      "0\n",
      "1\n",
      "2\n",
      "2\n",
      "4\n"
     ]
    }
   ],
   "source": [
    "# [ ] create let_to_num()\n",
    "for i, letters in enumerate(phone_letters):\n",
    "    print(f\"{i} = '{letters}'\")\n",
    "key = 0\n",
    "def let_to_num(letter):\n",
    "    if letter == \"\":\n",
    "        return 1\n",
    "    key = 0\n",
    "    while key < 10:\n",
    "        if letter.upper() in phone_letters[key]: # Create Code: determine if letter is **`in`** any of the phone_letters[key] where key is the index 0 -9:\n",
    "            return key\n",
    "        else:\n",
    "            key += 1\n",
    "    return \"Not Found\"\n",
    "\n",
    "print(let_to_num(\" \"))\n",
    "print(let_to_num(\"\"))\n",
    "print(let_to_num(\"A\"))\n",
    "print(let_to_num(\"b\"))\n",
    "print(let_to_num(\"g\"))\n",
    "# would really love more lessons on GitHub itself"
   ]
  },
  {
   "cell_type": "code",
   "execution_count": null,
   "metadata": {},
   "outputs": [],
   "source": []
  },
  {
   "cell_type": "markdown",
   "metadata": {},
   "source": [
    "## Challenge: reverse a string \n",
    "### using \n",
    "- while\n",
    "- .pop()\n",
    "- insert()  \n",
    "\n",
    "**`pop()`** the **first item** in the list and insert it at the beginning. Continue until the string is empty!"
   ]
  },
  {
   "cell_type": "code",
   "execution_count": 47,
   "metadata": {},
   "outputs": [
    {
     "name": "stdout",
     "output_type": "stream",
     "text": [
      "gnirts a esrever\n"
     ]
    }
   ],
   "source": [
    "# [ ] Challenge: write the code for \"reverse a string\"\n",
    "rv_a_stng = \"reverse a string\"\n",
    "og_list = list(rv_a_stng)\n",
    "rv_list = []\n",
    "\n",
    "while og_list:\n",
    "    char = og_list.pop(0)\n",
    "    rv_list.insert(0,char)\n",
    "\n",
    "reversed_stng = ''.join(rv_list)\n",
    "print(reversed_stng)"
   ]
  },
  {
   "cell_type": "code",
   "execution_count": null,
   "metadata": {},
   "outputs": [],
   "source": []
  },
  {
   "cell_type": "markdown",
   "metadata": {},
   "source": [
    "[Terms of use](http://go.microsoft.com/fwlink/?LinkID=206977) &nbsp; [Privacy & cookies](https://go.microsoft.com/fwlink/?LinkId=521839) &nbsp; © 2017 Microsoft"
   ]
  }
 ],
 "metadata": {
  "anaconda-cloud": {},
  "kernelspec": {
   "display_name": "Python 3 (ipykernel)",
   "language": "python",
   "name": "python3"
  },
  "language_info": {
   "codemirror_mode": {
    "name": "ipython",
    "version": 3
   },
   "file_extension": ".py",
   "mimetype": "text/x-python",
   "name": "python",
   "nbconvert_exporter": "python",
   "pygments_lexer": "ipython3",
   "version": "3.12.7"
  }
 },
 "nbformat": 4,
 "nbformat_minor": 4
}
