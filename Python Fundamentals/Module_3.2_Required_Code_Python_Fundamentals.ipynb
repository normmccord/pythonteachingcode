{
 "cells": [
  {
   "attachments": {},
   "cell_type": "markdown",
   "metadata": {},
   "source": [
    "\n",
    "#  Module 3 Required Coding Activity  \n",
    "\n",
    "Complete all tutorials and practice for this module prior to attempting this activity.\n",
    "\n",
    "|  Assignment Requirements |  \n",
    "|:-------------------------------|  \n",
    "| **NOTE:** This program requires **`print`** output and using code syntax used in module 3: **`if`**, **`input`**, **`def`**, **`return`**, **`for`**/**`in`** keywords, **`.lower()`** and **`.upper()`** method, **`.append`**, **`.pop`**, **`.split`** methods, **`range`** and **`len`** functions. You must include your full name in the initial prompt. See the sample input and output for more detail.  |  \n",
    "\n",
    "## Program: poem mixer  \n",
    "This program takes string input and then prints out a mixed order version of the string    \n",
    "\n",
    "\n",
    "**Program Parts**  \n",
    "- **program flow** gathers the word list, modifies the case and order, and prints      \n",
    "  - get string input, input like a poem, verse or saying \n",
    "  - split the string into a list of individual words  \n",
    "  - determine the length of the list\n",
    "  - Loop the length of the list by index number and for each list index:  \n",
    "    - if a word is short (3 letters or less) make the word in the list lowercase \n",
    "    - if a word is long (7 letters or more) make the word in the list uppercase   \n",
    "  - **call the word_mixer** function with the modified list  \n",
    "  - print the return value from the word_mixer function  \n",
    "\n",
    "- **word_mixer** Function has 1 argument: an original list of string words, containing greater than 5 words and the function returns a new list.   \n",
    "  - sort the original list  \n",
    "  - create a new list  \n",
    "  - Loop while the list is longer than 5 words:  \n",
    "    - *in each loop pop a word from the sorted original list and append to the new list*  \n",
    "    - pop the word 5th from the end of the list and append to the new list  \n",
    "    - pop the first word in the list and append to the new list  \n",
    "    - pop the last word in the list and append to the new list  \n",
    "  - **return** the new list on exiting the loop\n",
    "\n",
    "\n",
    "\n",
    "![poem mixer flowchart](images/poem_mixer.png)\n",
    "\n",
    "\n",
    " **input example**  *(beginning of William Blake poem, \"The Fly\")*\n",
    "\n",
    " >Welcome [YOUR NAME GOES HERE] enter a saying or poem: `Little fly, Thy summer’s play My thoughtless hand Has brushed away. Am not I A fly like thee? Or art not thou A man like me?`  \n",
    "\n",
    "\n",
    "**output example**   \n",
    ">`or BRUSHED thy not Little thou me? SUMMER’S thee? like THOUGHTLESS play i a not hand a my fly am man`\n",
    "\n",
    "\n",
    "**alternative output** in each loop in the function that creates the new list add a \"\\\\n\" to the list   \n",
    "```\n",
    " or BRUSHED thy \n",
    " not Little thou \n",
    " me? SUMMER’S thee? \n",
    " like THOUGHTLESS play \n",
    " i a not \n",
    " hand a my \n",
    " fly am man\n",
    "```\n",
    "\n"
   ]
  },
  {
   "cell_type": "code",
   "execution_count": 20,
   "metadata": {},
   "outputs": [
    {
     "name": "stdin",
     "output_type": "stream",
     "text": [
      "Welcome Norman McCord enter a saying or poem:  Little fly, Thy summer’s play My thoughtless hand Has brushed away. Am not I A fly like thee? Or art not thou A man like me?\n"
     ]
    },
    {
     "name": "stdout",
     "output_type": "stream",
     "text": [
      "thy not BRUSHED thou thee? me? Little play or like SUMMER’S not my hand THOUGHTLESS man like away. a i has a am fly,\n"
     ]
    }
   ],
   "source": [
    "# [] create poem mixer function, call the function with the provided test string\n",
    "# [] test string: `Little fly, Thy summer’s play My thoughtless hand Has brushed away. Am not I A fly like thee? Or art not thou A man like me?`  \n",
    "\n",
    "def word_mixer(word_list):\n",
    "    word_list.sort()\n",
    "    # print(word_list)\n",
    "    mixed_list = []\n",
    "\n",
    "    while len(word_list) > 5:\n",
    "        mixed_list.append(word_list.pop())\n",
    "        mixed_list.append(word_list.pop(-5))\n",
    "        mixed_list.append(word_list.pop(0))\n",
    "        mixed_list.append(word_list.pop())\n",
    "        \n",
    "    return mixed_list\n",
    "\n",
    "poem = input(\"Welcome Norman McCord enter a saying or poem: \")\n",
    "poem = poem.split()\n",
    "poem_len = len(poem)\n",
    "\n",
    "for i in range(poem_len):\n",
    "    if len(poem[i]) <= 3:\n",
    "        poem[i] = poem[i].lower()\n",
    "    elif len(poem[i]) >= 7:\n",
    "        poem[i] = poem[i].upper()\n",
    "    else:\n",
    "        pass\n",
    "\n",
    "\n",
    "\n",
    "mixed = word_mixer(poem)\n",
    "print(\" \".join(mixed))\n",
    "    "
   ]
  },
  {
   "cell_type": "markdown",
   "metadata": {},
   "source": [
    "Submit this by creating a python file (.py) and submitting it in D2L. Be sure to test that it works. \n"
   ]
  }
 ],
 "metadata": {
  "anaconda-cloud": {},
  "kernelspec": {
   "display_name": "Python 3 (ipykernel)",
   "language": "python",
   "name": "python3"
  },
  "language_info": {
   "codemirror_mode": {
    "name": "ipython",
    "version": 3
   },
   "file_extension": ".py",
   "mimetype": "text/x-python",
   "name": "python",
   "nbconvert_exporter": "python",
   "pygments_lexer": "ipython3",
   "version": "3.12.7"
  }
 },
 "nbformat": 4,
 "nbformat_minor": 4
}
