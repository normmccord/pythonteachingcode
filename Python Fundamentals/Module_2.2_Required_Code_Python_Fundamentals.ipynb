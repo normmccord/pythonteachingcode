{
 "cells": [
  {
   "attachments": {},
   "cell_type": "markdown",
   "metadata": {},
   "source": [
    "#  Module 2 Required Coding Activity  \n",
    "Introduction to Python (Unit 2) Fundamentals \n",
    " \n",
    "Be sure to complete all tutorials and practice prior to attempting this activity.  \n",
    "\n",
    "| Important Assignment Requirements |  \n",
    "|:-------------------------------|  \n",
    "| **NOTE:** This program requires creating a function using **`def`** and **`return`**, using **`print`** output, **`input`**, **`if`**, **`in`** keywords, **`.append()`**, **`.pop()`**, **`.remove()`** list methods.  Be sure to include your full name in the prompts. See the example input below for more detail. |   \n",
    "\n",
    "## Program: list-o-matic  \n",
    "This program takes string input and checks if that string is in a list of strings    \n",
    "- if string is in the list it removes the first instance from list  \n",
    "- if string is not in the list the input gets appended to the list  \n",
    "- if the string is empty then the last item is popped from the list \n",
    "- if the **list becomes empty** the program ends  \n",
    "- if the user enters \"quit\" then the program ends  \n",
    "\n",
    "program has 2 parts  \n",
    "- **program flow** which can be modified to ask for a specific type of item.  This is the programmers choice.  Add a list of fish, trees, books, movies, songs.... your choice.  \n",
    "- **list-o-matic** Function which takes arguments of a string and a list.  The function modifies the list and returns a message as seen below.  \n",
    "\n",
    "![Flowchart of List-o-Matic](images/list_o_matic.png)\n",
    "\n",
    "**[ ]** initialize a list with several strings at the beginning of the program flow and follow the flow chart and output examples\n",
    "\n",
    " *example input/output*  \n",
    " ```\n",
    "Welcome, [YOUR NAME GOES HERE]. Look at all the animals ['cat', 'goat', 'cat']\n",
    "enter the name of an animal: horse\n",
    "1 instance of horse appended to list\n",
    "\n",
    "Welcome, [YOUR NAME GOES HERE]. Look at all the animals ['cat', 'goat', 'cat', 'horse']\n",
    "enter the name of an animal: cat\n",
    "1 instance of cat removed from list\n",
    "\n",
    "Welcome, [YOUR NAME GOES HERE]. Look at all the animals ['goat', 'cat', 'horse']\n",
    "enter the name of an animal: cat\n",
    "1 instance of cat removed from list\n",
    "\n",
    "Welcome, [YOUR NAME GOES HERE]. Look at all the animals ['goat', 'horse']\n",
    "enter the name of an animal:          (<-- entered empty string)\n",
    "horse popped from list\n",
    "\n",
    "Welcome, [YOUR NAME GOES HERE]. Look at all the animals ['goat']\n",
    "enter the name of an animal:          (<-- entered empty string)\n",
    "goat popped from list\n",
    "\n",
    "Goodbye!\n",
    "```  \n",
    "\n",
    "*example 2*\n",
    "```\n",
    "Welcome, [YOUR NAME GOES HERE]. Look at all the animals ['cat', 'goat', 'cat']\n",
    "enter the name of an animal: Quit\n",
    "Goodbye!\n",
    "```  \n",
    "\n"
   ]
  },
  {
   "cell_type": "code",
   "execution_count": null,
   "metadata": {},
   "outputs": [
    {
     "name": "stdout",
     "output_type": "stream",
     "text": [
      "Welcome, Norman McCord. Look at all the movies: ['Hackers', 'Inception', 'Alien']\n"
     ]
    },
    {
     "name": "stdout",
     "output_type": "stream",
     "text": [
      "Enter the name of a movie (or quit). Movies are case-sensitive:  quit\n"
     ]
    },
    {
     "name": "stdout",
     "output_type": "stream",
     "text": [
      "Goodbye.\n"
     ]
    }
   ],
   "source": [
    "# [x] create list-o-matic as a function and call it\n",
    "# [x] be sure to include your spelled-out name in the welcome prompt\n",
    "# [x] you are welcome to use any list you like for list-o-matic, does not have to be animals \n",
    "author_name = \"Norman McCord\"\n",
    "\n",
    "# [x] if string is in the list it removes the first instance from list\n",
    "# [x] if string is not in the list the input gets appended to the list\n",
    "# [x] if the string is empty then the last item is popped from the list\n",
    "# [x] if the list becomes empty the program ends\n",
    "# [x] if the user enters \"quit\" then the program ends\n",
    "\n",
    "def list_o_matic(movie_input,movie_list):\n",
    "    if movie_input == \"\":\n",
    "        popped = movie_list.pop()\n",
    "        return f\"{popped} popped from the list.\"\n",
    "    elif movie_input in movie_list:\n",
    "        movie_list.remove(movie_input)\n",
    "        return f\"1 instance of {movie_input} removed from the list.\"\n",
    "    else:\n",
    "        movie_list.append(movie_input)\n",
    "        return f\"{movie_input} added to the list.\"\n",
    "\n",
    "movie_list = [\"Hackers\",\"Inception\",\"Alien\"]\n",
    "\n",
    "\n",
    "while movie_list:\n",
    "    print(f\"Welcome, {author_name}. Look at all the movies:\",movie_list)\n",
    "    movie_input = input(\"Enter the name of a movie (or quit). Movies are case-sensitive: \")\n",
    "    if movie_input.lower() == \"quit\":\n",
    "        break\n",
    "\n",
    "    print(list_o_matic(movie_input,movie_list))\n",
    "\n",
    "\n",
    "print(\"Goodbye.\")\n",
    "\n",
    "\n"
   ]
  },
  {
   "cell_type": "markdown",
   "metadata": {},
   "source": [
    "Submit this by creating a python file (.py) and submitting it in D2L. Be sure to test that it works.\n"
   ]
  }
 ],
 "metadata": {
  "anaconda-cloud": {},
  "kernelspec": {
   "display_name": "Python 3 (ipykernel)",
   "language": "python",
   "name": "python3"
  },
  "language_info": {
   "codemirror_mode": {
    "name": "ipython",
    "version": 3
   },
   "file_extension": ".py",
   "mimetype": "text/x-python",
   "name": "python",
   "nbconvert_exporter": "python",
   "pygments_lexer": "ipython3",
   "version": "3.12.7"
  }
 },
 "nbformat": 4,
 "nbformat_minor": 4
}
